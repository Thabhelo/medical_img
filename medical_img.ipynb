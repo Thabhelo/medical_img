{
 "cells": [
  {
   "cell_type": "code",
   "execution_count": null,
   "id": "520acf61-4461-4629-8159-d2c3cb8e6153",
   "metadata": {},
   "outputs": [],
   "source": [
    "# Import the required packages\n",
    "import imageio\n",
    "import matplotlib.pyplot as plt\n",
    "import numpy as np\n",
    "import pydicom\n",
    "import sys\n",
    "from PIL import Image"
   ]
  },
  {
   "cell_type": "code",
   "execution_count": null,
   "id": "48d3eb8f-d637-4258-afa0-887dfcbd59c1",
   "metadata": {},
   "outputs": [],
   "source": [
    "# Read the DICOM file and store it in a variable\n",
    "dicom_file = 'assign.dcm'\n",
    "ds = pydicom.dcmread(dicom_file)\n",
    "im1 = ds.pixel_array\n",
    "\n",
    "# Render the image\n",
    "plt.imshow(im1, cmap='gray')\n",
    "plt.title('Image 1')\n",
    "plt.show()"
   ]
  },
  {
   "cell_type": "code",
   "execution_count": null,
   "id": "9a1a15bd-f5b5-4927-be8c-7b2b5a6896e4",
   "metadata": {},
   "outputs": [],
   "source": [
    "# Extract information about the image\n",
    "print('Metadata: ', ds)\n",
    "print('Available metadata fields: ', ds.dir())\n",
    "print('Modality: ', ds.Modality)\n",
    "print('Shape of image array: ', im1.shape)"
   ]
  },
  {
   "cell_type": "code",
   "execution_count": null,
   "id": "ee352c7f-5571-4d5b-9165-773377c09a25",
   "metadata": {},
   "outputs": [],
   "source": [
    "# Extract the image matrix containing pixel values\n",
    "# Print the image Numpy-array and direct the print output to a .txt file\n",
    "with open(\"output1.txt\", \"w\") as f1:\n",
    "    np.set_printoptions(threshold=sys.maxsize)\n",
    "    print(im1, file=f1)"
   ]
  },
  {
   "cell_type": "code",
   "execution_count": null,
   "id": "54d8018d-2562-4eee-9992-2e7669f77ad9",
   "metadata": {},
   "outputs": [],
   "source": [
    "# Lighten image by multiplying the image matrix by a scaler\n",
    "scaler = 50\n",
    "im2 = im1 * scaler\n",
    "\n",
    "# Ensure the pixel values are within the valid range\n",
    "im2 = np.clip(im2, 0, 255)\n",
    "\n",
    "# Directing print output to a .txt file\n",
    "with open(\"output2.txt\", \"w\") as f2:\n",
    "    np.set_printoptions(threshold=sys.maxsize)\n",
    "    print(im2, file=f2)\n",
    "\n",
    "# Render the lightened image\n",
    "imL = Image.fromarray(im2.astype(np.uint8))\n",
    "plt.imshow(imL, cmap='gray')\n",
    "plt.title('Image 2')\n",
    "plt.show()"
   ]
  },
  {
   "cell_type": "code",
   "execution_count": null,
   "id": "ee58a9ee-a191-4870-9d37-72f9acd5b05c",
   "metadata": {},
   "outputs": [],
   "source": [
    "# Inverse image\n",
    "inv = np.invert(im1)\n",
    "\n",
    "# Directing print output to a .txt file\n",
    "with open(\"output3.txt\", \"w\") as f3:\n",
    "    np.set_printoptions(threshold=sys.maxsize)\n",
    "    print(inv, file=f3)\n",
    "\n",
    "# Render the inverse image\n",
    "im3 = Image.fromarray(inv)\n",
    "plt.imshow(im3, cmap='gray')\n",
    "plt.title('Image 3')\n",
    "plt.show()"
   ]
  }
 ],
 "metadata": {
  "kernelspec": {
   "display_name": "Python 3 (ipykernel)",
   "language": "python",
   "name": "python3"
  },
  "language_info": {
   "codemirror_mode": {
    "name": "ipython",
    "version": 3
   },
   "file_extension": ".py",
   "mimetype": "text/x-python",
   "name": "python",
   "nbconvert_exporter": "python",
   "pygments_lexer": "ipython3",
   "version": "3.9.6"
  }
 },
 "nbformat": 4,
 "nbformat_minor": 5
}
